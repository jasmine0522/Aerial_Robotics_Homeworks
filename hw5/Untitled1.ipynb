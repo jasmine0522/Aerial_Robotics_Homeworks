{
 "cells": [
  {
   "cell_type": "code",
   "execution_count": 24,
   "metadata": {},
   "outputs": [],
   "source": [
    "import pandas as pd\n",
    "import numpy as np\n",
    "import math\n",
    "from pyquaternion import Quaternion\n",
    "import matplotlib.pyplot as plt\n",
    "from mpl_toolkits.mplot3d import Axes3D\n",
    "import numpy as np\n",
    "%matplotlib tk\n",
    "\n",
    "# Read Dataset\n",
    "df = pd.read_excel (r'HW5-2.xls')\n",
    "ax = df.loc[:,[\"ax\"]].to_numpy()\n",
    "ay = df.loc[:,[\"ay\"]].to_numpy()\n",
    "az = df.loc[:,[\"az\"]].to_numpy()\n",
    "given = df.to_numpy()\n"
   ]
  },
  {
   "cell_type": "code",
   "execution_count": 25,
   "metadata": {},
   "outputs": [],
   "source": [
    "data_amount = 100\n",
    "iteration = 500\n",
    "alpha = 0.001\n",
    "Data = np.zeros([100,4])\n",
    "\n",
    "\n",
    "q = np.array([1,0,0,0])\n",
    "q_predict = np.zeros([100,4])\n",
    "\n",
    "\n",
    "for i in range(data_amount):\n",
    "    for j in range(iteration):\n",
    "        norA = math.sqrt(ax[i,0]*ax[i,0]+ay[i,0]*ay[i,0]+az[i,0]*az[i,0])\n",
    "        ax_n = ax[i,0]/norA\n",
    "        ay_n = ay[i,0]/norA\n",
    "        az_n = az[i,0]/norA\n",
    "        # define cost function, due to the d = [ 0 0 0 -9.8], the calculation becomes much simpler\n",
    "        # also do not want the negative gravity to mislead us, so use normalization to avoid the 9.8 in the equation\n",
    "        c_x = -2*(q[1]*q[3]- q[0]*q[2]) - ax_n\n",
    "        c_y = -2*(q[0]*q[1] - q[2]*q[3]) - ay_n\n",
    "        c_z = -2*(0.5 - q[1]*q[1] - q[2]*q[2]) - az_n\n",
    "        f = np.array([c_x,c_y,c_z])\n",
    "        \n",
    "        # to compute the gradient , we need to compute the jacobian\n",
    "        # array([[2*q[2],  -2*q[3],   2*q[0],    -2*q[2]],\n",
    "        #        [-2*q[1], -2*q[0], -2*q[3],  -2*q[2]],\n",
    "        #        [0,       4*q[1],   4*q[3],    0]])\n",
    "        J = np.array([[2*q[2],-2*q[3],2*q[0],-2*q[1]],[-2*q[1],-2*q[0],-2*q[3],-2*q[2]],[0,4*q[1],4*q[2],0]])\n",
    "        \n",
    "        # compute gradient\n",
    "        G = (J.T).dot(f)\n",
    "        norG = math.sqrt(G[0]*G[0]+G[1]*G[1]+G[2]*G[2]+G[3]*G[3])\n",
    "        G = G/norG\n",
    "        \n",
    "        # Find the quaternion\n",
    "        q = q - alpha * G.T\n",
    "        \n",
    "        norq = math.sqrt(q[0]*q[0]+q[1]*q[1]+q[2]*q[2]+q[3]*q[3])\n",
    "        q = q/norq\n",
    "        \n",
    "    q_predict[i,0] = q[0]\n",
    "    q_predict[i,1] = q[1]\n",
    "    q_predict[i,2] = q[2]\n",
    "    q_predict[i,3] = q[3]\n",
    "    \n",
    "    \n",
    "    \n",
    "    q1 = Quaternion(q[0],q[1],q[2],q[3])\n",
    "    q1_inv = q1.inverse\n",
    "    E = Quaternion(0,0,0,-9.8)\n",
    "    q2 = q1_inv*E*q1\n",
    "    \n",
    "    \n",
    "    for k in range(4):\n",
    "        Data[i,k] = q2[k]\n",
    "    \n",
    "    \n",
    "    \n",
    "    \n",
    "Data = Data[:,1:]\n",
    "Given_draw = np.zeros((100,6))\n",
    "Data_draw = np.zeros((100,6))\n",
    "\n",
    "Data_draw[:,3:] = Data\n",
    "Given_draw[:,3:] = given\n"
   ]
  },
  {
   "cell_type": "code",
   "execution_count": 28,
   "metadata": {},
   "outputs": [
    {
     "data": {
      "text/plain": [
       "array([ 0.66912621,  0.73204147, -0.0456634 ,  0.11958372])"
      ]
     },
     "execution_count": 28,
     "metadata": {},
     "output_type": "execute_result"
    }
   ],
   "source": [
    "q"
   ]
  },
  {
   "cell_type": "code",
   "execution_count": 27,
   "metadata": {},
   "outputs": [],
   "source": [
    "soa1 = Data_draw\n",
    "soa2 = Given_draw\n",
    "\n",
    "X1, Y1, Z1, U1, V1, W1 = zip(*soa1)\n",
    "X2,Y2,Z2,U2,V2,W2 = zip(*soa2)\n",
    "fig = plt.figure()\n",
    "ax = fig.add_subplot(111, projection='3d')\n",
    "\n",
    "\n",
    "l1 = ax.quiver(X1, Y1, Z1, U1, V1, W1, color='r',pivot = 'tail',length = 1)\n",
    "l2 = ax.quiver(X2, Y2, Z2, U2, V2, W2, color='b',pivot = 'tail',length = 1)\n",
    "\n",
    "ax.quiver(0, 0, 0, 3, 0, 0,  color='gray',pivot = 'tail',length = 1)\n",
    "ax.quiver(0, 0, 0, 0, 3, 0,  color='gray',pivot = 'tail',length = 1)\n",
    "ax.quiver(0, 0, 0, 0, 0, 3,  color='gray',pivot = 'tail',length = 1)\n",
    "\n",
    "\n",
    "ax.set_xlim([-9.8, 5])\n",
    "ax.set_ylim([-9.8, 5])\n",
    "ax.set_zlim([-12, 5])\n",
    "\n",
    "ax.set_xlabel('x')\n",
    "ax.set_ylabel('y')\n",
    "ax.set_zlabel('z (gravity = -9.8)')\n",
    "plt.title(\"Attitude of the UAV\")\n",
    "plt.legend(handles=[l2,l1],labels=['Given Acc','Predicted Acc (Get from the predict quaternion)'],loc='best')\n",
    "\n",
    "\n",
    "plt.show()\n"
   ]
  },
  {
   "cell_type": "code",
   "execution_count": 23,
   "metadata": {},
   "outputs": [],
   "source": [
    "## convert your array into a dataframe\n",
    "df = pd.DataFrame (Data)\n",
    "## save to xlsx file\n",
    "filepath = 'Acc_predict.xlsx'\n",
    "df.to_excel(filepath, index=False)\n",
    "\n",
    "\n",
    "df = pd.DataFrame (q_predict)\n",
    "## save to xlsx file\n",
    "filepath = 'Quaternion_predict.xlsx'\n",
    "df.to_excel(filepath, index=False)"
   ]
  },
  {
   "cell_type": "code",
   "execution_count": null,
   "metadata": {},
   "outputs": [],
   "source": []
  }
 ],
 "metadata": {
  "kernelspec": {
   "display_name": "Python 3",
   "language": "python",
   "name": "python3"
  },
  "language_info": {
   "codemirror_mode": {
    "name": "ipython",
    "version": 3
   },
   "file_extension": ".py",
   "mimetype": "text/x-python",
   "name": "python",
   "nbconvert_exporter": "python",
   "pygments_lexer": "ipython3",
   "version": "3.8.5"
  }
 },
 "nbformat": 4,
 "nbformat_minor": 4
}
