{
 "cells": [
  {
   "cell_type": "code",
   "execution_count": 1,
   "metadata": {},
   "outputs": [],
   "source": [
    "import pandas as pd\n",
    "import numpy as np\n",
    "import math\n",
    "from pyquaternion import Quaternion\n",
    "import matplotlib.pyplot as plt\n",
    "from mpl_toolkits.mplot3d import Axes3D\n",
    "\n",
    "data=pd.read_excel('HW5-2.xls')\n",
    "given=data.to_numpy()\n",
    "Data=np.zeros([100,4])\n",
    "%matplotlib tk\n",
    "\n",
    "iter=2000\n",
    "lr=0.001\n",
    "q=np.array([1,0,0,0])\n",
    "q_predict=np.zeros([100,4])"
   ]
  },
  {
   "cell_type": "code",
   "execution_count": 2,
   "metadata": {},
   "outputs": [],
   "source": [
    "ax=data.loc[:,['ax']]\n",
    "ay=data.loc[:,['ay']]\n",
    "az=data.loc[:,['az']]\n",
    "ax1=np.array(ax)\n",
    "ay1=np.array(ay)\n",
    "az1=np.array(az)"
   ]
  },
  {
   "cell_type": "code",
   "execution_count": 3,
   "metadata": {},
   "outputs": [],
   "source": [
    "for i in range(100):\n",
    "    for j in range(iter):\n",
    "        #normalize後的acc只有方向沒有大小\n",
    "        norm=math.sqrt(ax1[i,0]*ax1[i,0]+ay1[i,0]*ay1[i,0]+az1[i,0]*az1[i,0])\n",
    "        a_x=ax1[i,0]/norm\n",
    "        a_y=ay1[i,0]/norm\n",
    "        a_z=az1[i,0]/norm\n",
    "        #cost function=e\n",
    "        f1=-2*(q[1]*q[3]-q[2]*q[0])-a_x\n",
    "        f2=-2*(q[2]*q[3]+q[1]*q[0])-a_y\n",
    "        f3=-1+2*(q[1]*q[1]+q[2]*q[2])-a_z\n",
    "        f=np.array([f1,f2,f3])\n",
    "        #Jacobian\n",
    "        J=np.array([[2*q[2],-2*q[3],2*q[0],-2*q[1]],[-2*q[1],-2*q[0],-2*q[3],-2*q[2]],[0,4*q[1],4*q[2],0]])\n",
    "        #Gradient\n",
    "        G=(J.T).dot(f)\n",
    "        #normalize Gradient\n",
    "        norm_G=math.sqrt(G[0]*G[0]+G[1]*G[1]+G[2]*G[2]+G[3]*G[3])\n",
    "        G=G/norm_G\n",
    "        #Quaternion\n",
    "        q=q-lr*G\n",
    "        # normalize quaternion\n",
    "        norm_q=math.sqrt(q[0]*q[0]+q[1]*q[1]+q[2]*q[2]+q[3]*q[3])\n",
    "        q=q/norm_q\n",
    "        \n",
    "    q_predict[i,0]=q[0]\n",
    "    q_predict[i,1]=q[1]\n",
    "    q_predict[i,2]=q[2]\n",
    "    q_predict[i,3]=q[3]\n",
    "    \n",
    "    \n",
    "    \n",
    "    q_1=Quaternion(q[0],q[1],q[2],q[3])\n",
    "    q_1_inverse=q_1.inverse\n",
    "    E=Quaternion(0,0,0,-9.8)\n",
    "    #gravity to sensor frame\n",
    "    q_2=q_1_inverse*E*q_1\n",
    "    \n",
    "    for s in range(4):\n",
    "        Data[i,s]=q_2[s]\n",
    "\n",
    "\n"
   ]
  },
  {
   "cell_type": "code",
   "execution_count": 4,
   "metadata": {},
   "outputs": [
    {
     "data": {
      "text/plain": [
       "array([ 0.67005393,  0.73159257, -0.0439033 ,  0.11778172])"
      ]
     },
     "execution_count": 4,
     "metadata": {},
     "output_type": "execute_result"
    }
   ],
   "source": [
    "q"
   ]
  },
  {
   "cell_type": "code",
   "execution_count": 6,
   "metadata": {},
   "outputs": [
    {
     "ename": "ValueError",
     "evalue": "could not broadcast input array from shape (100,2) into shape (100,3)",
     "output_type": "error",
     "traceback": [
      "\u001b[0;31m---------------------------------------------------------------------------\u001b[0m",
      "\u001b[0;31mValueError\u001b[0m                                Traceback (most recent call last)",
      "\u001b[0;32m<ipython-input-6-89df54768141>\u001b[0m in \u001b[0;36m<module>\u001b[0;34m\u001b[0m\n\u001b[1;32m      2\u001b[0m \u001b[0mGiven_draw\u001b[0m\u001b[0;34m=\u001b[0m\u001b[0mnp\u001b[0m\u001b[0;34m.\u001b[0m\u001b[0mzeros\u001b[0m\u001b[0;34m(\u001b[0m\u001b[0;34m[\u001b[0m\u001b[0;36m100\u001b[0m\u001b[0;34m,\u001b[0m\u001b[0;36m6\u001b[0m\u001b[0;34m]\u001b[0m\u001b[0;34m)\u001b[0m\u001b[0;34m\u001b[0m\u001b[0;34m\u001b[0m\u001b[0m\n\u001b[1;32m      3\u001b[0m \u001b[0mData_draw\u001b[0m\u001b[0;34m=\u001b[0m\u001b[0mnp\u001b[0m\u001b[0;34m.\u001b[0m\u001b[0mzeros\u001b[0m\u001b[0;34m(\u001b[0m\u001b[0;34m[\u001b[0m\u001b[0;36m100\u001b[0m\u001b[0;34m,\u001b[0m\u001b[0;36m6\u001b[0m\u001b[0;34m]\u001b[0m\u001b[0;34m)\u001b[0m\u001b[0;34m\u001b[0m\u001b[0;34m\u001b[0m\u001b[0m\n\u001b[0;32m----> 4\u001b[0;31m \u001b[0mData_draw\u001b[0m\u001b[0;34m[\u001b[0m\u001b[0;34m:\u001b[0m\u001b[0;34m,\u001b[0m\u001b[0;36m3\u001b[0m\u001b[0;34m:\u001b[0m\u001b[0;34m]\u001b[0m\u001b[0;34m=\u001b[0m\u001b[0mData\u001b[0m\u001b[0;34m\u001b[0m\u001b[0;34m\u001b[0m\u001b[0m\n\u001b[0m\u001b[1;32m      5\u001b[0m \u001b[0mGiven_draw\u001b[0m\u001b[0;34m[\u001b[0m\u001b[0;34m:\u001b[0m\u001b[0;34m,\u001b[0m\u001b[0;36m3\u001b[0m\u001b[0;34m:\u001b[0m\u001b[0;34m]\u001b[0m\u001b[0;34m=\u001b[0m\u001b[0mgiven\u001b[0m\u001b[0;34m\u001b[0m\u001b[0;34m\u001b[0m\u001b[0m\n\u001b[1;32m      6\u001b[0m \u001b[0;34m\u001b[0m\u001b[0m\n",
      "\u001b[0;31mValueError\u001b[0m: could not broadcast input array from shape (100,2) into shape (100,3)"
     ]
    }
   ],
   "source": [
    "Data = Data[:,1:]\n",
    "Given_draw=np.zeros([100,6])\n",
    "Data_draw=np.zeros([100,6])\n",
    "Data_draw[:,3:]=Data\n",
    "Given_draw[:,3:]=given\n",
    "\n",
    "soa1=Data_draw\n",
    "soa2=Given_draw\n",
    "\n",
    "X1,Y1,Z1,U1,V1,W1=zip(*soa1)\n",
    "X2,Y2,Z2,U2,V2,W2=zip(*soa2)\n",
    "fig=plt.figure(figsize=plt.figaspect(0.5))\n",
    "ax=fig.add_subplot(1,1,1,projection='3d')\n",
    "\n",
    "l1=ax.quiver(X1,Y1,Z1,U1,V1,W1,color='r',pivot='tail',length=1)\n",
    "l2=ax.quiver(X2,Y2,Z2,U2,V2,W2,color='b',pivot='tail',length=1)\n",
    "\n",
    "ax.quiver(0,0,0,3,0,0,color='gray',pivot='tail',length=1)\n",
    "ax.quiver(0,0,0,0,3,0,color='gray',pivot='tail',length=1)\n",
    "ax.quiver(0,0,0,0,0,3,color='gray',pivot='tail',length=1)\n",
    "\n",
    "ax.set_xlim([-9.8,5])\n",
    "ax.set_ylim([-9.8,5])\n",
    "ax.set_zlim([-9.8,5])\n",
    "\n",
    "ax.set_xlabel('x')\n",
    "ax.set_ylabel('y')\n",
    "ax.set_zlabel('z(gravity=-9.8)')\n",
    "plt.title(\"Attitude\")\n",
    "plt.legend(handles=[l2,l1],labels=['Given','Pre'],loc='best')\n",
    "\n",
    "plt.show()"
   ]
  },
  {
   "cell_type": "code",
   "execution_count": 6,
   "metadata": {},
   "outputs": [],
   "source": [
    "df1=pd.DataFrame(Data)\n",
    "filepath='Acc_pre.xlsx'\n",
    "df1.to_excel(filepath,index=False)\n",
    "\n",
    "df2=pd.DataFrame(q_predict)\n",
    "filepath='Quaternion_pre.xlsx'\n",
    "df2.to_excel(filepath,index=False)"
   ]
  },
  {
   "cell_type": "code",
   "execution_count": 52,
   "metadata": {},
   "outputs": [
    {
     "ename": "NameError",
     "evalue": "name 'soa1' is not defined",
     "output_type": "error",
     "traceback": [
      "\u001b[0;31m---------------------------------------------------------------------------\u001b[0m",
      "\u001b[0;31mNameError\u001b[0m                                 Traceback (most recent call last)",
      "\u001b[0;32m<ipython-input-52-ceccf998869a>\u001b[0m in \u001b[0;36m<module>\u001b[0;34m\u001b[0m\n\u001b[0;32m----> 1\u001b[0;31m \u001b[0mX1\u001b[0m\u001b[0;34m,\u001b[0m\u001b[0mY1\u001b[0m\u001b[0;34m,\u001b[0m\u001b[0mZ1\u001b[0m\u001b[0;34m,\u001b[0m\u001b[0mU1\u001b[0m\u001b[0;34m,\u001b[0m\u001b[0mV1\u001b[0m\u001b[0;34m,\u001b[0m\u001b[0mW1\u001b[0m\u001b[0;34m=\u001b[0m\u001b[0mzip\u001b[0m\u001b[0;34m(\u001b[0m\u001b[0;34m*\u001b[0m\u001b[0msoa1\u001b[0m\u001b[0;34m)\u001b[0m\u001b[0;34m\u001b[0m\u001b[0;34m\u001b[0m\u001b[0m\n\u001b[0m\u001b[1;32m      2\u001b[0m \u001b[0mX2\u001b[0m\u001b[0;34m,\u001b[0m\u001b[0mY2\u001b[0m\u001b[0;34m,\u001b[0m\u001b[0mZ2\u001b[0m\u001b[0;34m,\u001b[0m\u001b[0mU2\u001b[0m\u001b[0;34m,\u001b[0m\u001b[0mV2\u001b[0m\u001b[0;34m,\u001b[0m\u001b[0mW2\u001b[0m\u001b[0;34m=\u001b[0m\u001b[0mzip\u001b[0m\u001b[0;34m(\u001b[0m\u001b[0;34m*\u001b[0m\u001b[0msoa2\u001b[0m\u001b[0;34m)\u001b[0m\u001b[0;34m\u001b[0m\u001b[0;34m\u001b[0m\u001b[0m\n\u001b[1;32m      3\u001b[0m \u001b[0mfig\u001b[0m\u001b[0;34m=\u001b[0m\u001b[0mplt\u001b[0m\u001b[0;34m.\u001b[0m\u001b[0mfigure\u001b[0m\u001b[0;34m(\u001b[0m\u001b[0mfigsize\u001b[0m\u001b[0;34m=\u001b[0m\u001b[0mplt\u001b[0m\u001b[0;34m.\u001b[0m\u001b[0mfigaspect\u001b[0m\u001b[0;34m(\u001b[0m\u001b[0;36m0.5\u001b[0m\u001b[0;34m)\u001b[0m\u001b[0;34m)\u001b[0m\u001b[0;34m\u001b[0m\u001b[0;34m\u001b[0m\u001b[0m\n\u001b[1;32m      4\u001b[0m \u001b[0max\u001b[0m\u001b[0;34m=\u001b[0m\u001b[0mfig\u001b[0m\u001b[0;34m.\u001b[0m\u001b[0madd_subplot\u001b[0m\u001b[0;34m(\u001b[0m\u001b[0;36m1\u001b[0m\u001b[0;34m,\u001b[0m\u001b[0;36m1\u001b[0m\u001b[0;34m,\u001b[0m\u001b[0;36m1\u001b[0m\u001b[0;34m,\u001b[0m\u001b[0mprojection\u001b[0m\u001b[0;34m=\u001b[0m\u001b[0;34m'3d'\u001b[0m\u001b[0;34m)\u001b[0m\u001b[0;34m\u001b[0m\u001b[0;34m\u001b[0m\u001b[0m\n\u001b[1;32m      5\u001b[0m \u001b[0;34m\u001b[0m\u001b[0m\n",
      "\u001b[0;31mNameError\u001b[0m: name 'soa1' is not defined"
     ]
    }
   ],
   "source": []
  },
  {
   "cell_type": "code",
   "execution_count": null,
   "metadata": {},
   "outputs": [],
   "source": []
  },
  {
   "cell_type": "code",
   "execution_count": null,
   "metadata": {},
   "outputs": [],
   "source": []
  }
 ],
 "metadata": {
  "kernelspec": {
   "display_name": "Python 3",
   "language": "python",
   "name": "python3"
  },
  "language_info": {
   "codemirror_mode": {
    "name": "ipython",
    "version": 3
   },
   "file_extension": ".py",
   "mimetype": "text/x-python",
   "name": "python",
   "nbconvert_exporter": "python",
   "pygments_lexer": "ipython3",
   "version": "3.8.5"
  }
 },
 "nbformat": 4,
 "nbformat_minor": 4
}
